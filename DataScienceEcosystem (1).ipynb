{
  "metadata": {
    "language_info": {
      "codemirror_mode": {
        "name": "python",
        "version": 3
      },
      "file_extension": ".py",
      "mimetype": "text/x-python",
      "name": "python",
      "nbconvert_exporter": "python",
      "pygments_lexer": "ipython3",
      "version": "3.8"
    },
    "kernelspec": {
      "name": "python",
      "display_name": "Python (Pyodide)",
      "language": "python"
    }
  },
  "nbformat_minor": 4,
  "nbformat": 4,
  "cells": [
    {
      "cell_type": "markdown",
      "source": "# Data Science Tools and Ecosystem\n",
      "metadata": {}
    },
    {
      "cell_type": "markdown",
      "source": "In this notebook, Data Science Tools and Ecosystem are summarized.",
      "metadata": {}
    },
    {
      "cell_type": "markdown",
      "source": "**Objectives:**\n\n- List popular languages for Data Science.\n- Introduce commonly used libraries in Data Science.\n- Explore examples of evaluating arithmetic expressions in Python.\n- Understand how to convert minutes to hours using Python.\n- Summarize the Data Science tools and ecosystem.\n",
      "metadata": {}
    },
    {
      "cell_type": "markdown",
      "source": "Some of the popular languages that Data Scientists use are:\n\n1. Python\n2. R\n3. SQL\n4. Julia\n5. Scala\n",
      "metadata": {}
    },
    {
      "cell_type": "markdown",
      "source": "Some of the commonly used libraries by Data Scientists include:\n\n1. NumPy\n2. Pandas\n3. Matplotlib\n4. Scikit-Learn\n5. TensorFlow\n",
      "metadata": {}
    },
    {
      "cell_type": "markdown",
      "source": "| Data Science Tools    |\n|-----------------------|\n| Jupyter Notebook      |\n| RStudio               |\n| Visual Studio Code    |\n",
      "metadata": {}
    },
    {
      "cell_type": "markdown",
      "source": "### Examples of Evaluating Arithmetic Expressions in Python\n\nIn Python, you can perform various arithmetic operations. Here are some examples:\n\n1. **Addition:**\n   ```python\n   result = 5 + 3\n   # result will be 8\nresult = 10 - 4\n# result will be 6\n",
      "metadata": {}
    },
    {
      "cell_type": "code",
      "source": "# This a simple arithmetic expression to mutiply then add integers\n(3*4)+5",
      "metadata": {
        "trusted": true
      },
      "execution_count": 6,
      "outputs": [
        {
          "execution_count": 6,
          "output_type": "execute_result",
          "data": {
            "text/plain": "17"
          },
          "metadata": {}
        }
      ]
    },
    {
      "cell_type": "code",
      "source": "#This will convert 200 minutes to hours by diving by 60\n200/60",
      "metadata": {
        "trusted": true
      },
      "execution_count": 8,
      "outputs": [
        {
          "execution_count": 8,
          "output_type": "execute_result",
          "data": {
            "text/plain": "3.3333333333333335"
          },
          "metadata": {}
        }
      ]
    },
    {
      "cell_type": "markdown",
      "source": "## Author\nAndrea Lamacchia\n",
      "metadata": {}
    }
  ]
}